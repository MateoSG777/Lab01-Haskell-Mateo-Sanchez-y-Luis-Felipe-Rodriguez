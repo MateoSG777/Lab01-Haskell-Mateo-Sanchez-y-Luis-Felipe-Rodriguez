{
 "cells": [
  {
   "cell_type": "code",
   "execution_count": null,
   "id": "af8e41c4-d119-4e81-a9e4-707fd9564d6d",
   "metadata": {},
   "outputs": [],
   "source": [
    "-Ejercicio 4-"
   ]
  },
  {
   "cell_type": "code",
   "execution_count": 1,
   "id": "de1bd1ce-ac47-49d2-8364-0fd252b0a4ea",
   "metadata": {
    "tags": []
   },
   "outputs": [],
   "source": [
    "{-1. Predice la evaluación paso a paso\n",
    "\n",
    "Dada la expresión:\n",
    "\n",
    "take 5 (map (*2) [1..])\n",
    "\n",
    "a. Predice el resultado sin ejecutarlo.\n",
    "\n",
    "b. Luego, ejecútalo y compara tu predicción.-}"
   ]
  },
  {
   "cell_type": "code",
   "execution_count": 8,
   "id": "2d5689b6-829d-4efb-80af-50d3aae9bb4c",
   "metadata": {
    "tags": []
   },
   "outputs": [
    {
     "data": {
      "text/plain": [
       "[2,4,6,8,10]"
      ]
     },
     "metadata": {},
     "output_type": "display_data"
    }
   ],
   "source": [
    "take 5 (map (*2) [1..])"
   ]
  },
  {
   "cell_type": "code",
   "execution_count": 3,
   "id": "3b19d891-9c61-40d1-b090-83ca4e37e9e4",
   "metadata": {
    "tags": []
   },
   "outputs": [],
   "source": [
    "{-a. Debería tomar los primeros 5 valores de la lista.\n",
    "  b. Mi predicción fue correcta ya que despés de mapear una ista y multiplicar sus valores por 2 -}"
   ]
  },
  {
   "cell_type": "code",
   "execution_count": 6,
   "id": "08284b0d-2a79-488f-906e-683f55b72a7a",
   "metadata": {
    "tags": []
   },
   "outputs": [],
   "source": [
    "{-Pregunta de análisis: ¿Por qué [1..] no causa un ciclo infinito?\n",
    "Porque Haskell usa la evalación perezosa, dicho ésto, no está utilizando ni almacenando en sí una lista con determinada cantidad de números, sino los usa en el instante de ser requeridos.-}"
   ]
  },
  {
   "cell_type": "code",
   "execution_count": 9,
   "id": "fde68622-9ff6-4a13-b9bf-cbdda6ca0c2f",
   "metadata": {
    "tags": []
   },
   "outputs": [],
   "source": [
    "{-2. Considera la siguiente función: misterio x y = if x > 10 then y * 2 else x + y-}"
   ]
  },
  {
   "cell_type": "code",
   "execution_count": 11,
   "id": "0b84930e-7b92-47c1-a21d-262996b2438c",
   "metadata": {
    "tags": []
   },
   "outputs": [],
   "source": [
    "--misterio x y = if x > 10 then y * 2 else x + y--"
   ]
  },
  {
   "cell_type": "code",
   "execution_count": 12,
   "id": "d6c8513a-3237-4e74-bdd2-210003464031",
   "metadata": {
    "tags": []
   },
   "outputs": [],
   "source": [
    "misterio x y \n",
    "  | x > 10 = y * 2\n",
    "  | otherwise = x + y "
   ]
  },
  {
   "cell_type": "code",
   "execution_count": 22,
   "id": "3ec3081b-e88c-445b-bacc-d0966618ffbe",
   "metadata": {
    "tags": []
   },
   "outputs": [
    {
     "data": {
      "text/plain": [
       "24"
      ]
     },
     "metadata": {},
     "output_type": "display_data"
    }
   ],
   "source": [
    "--a. Evalua paso a paso misterio (5+7) (4*3)--\n",
    "misterio (5+7) (4*3)"
   ]
  },
  {
   "cell_type": "code",
   "execution_count": null,
   "id": "b2a73f1c-32cd-4727-9c34-f5800b7d51fd",
   "metadata": {},
   "outputs": [],
   "source": [
    "{-Primero se aplican las operaciones dentro de los parentesis a la hora de hacer el llamado de la función con dichos parametros,\n",
    "para luego usarlos dentro de la función y hacer las comparaciones. En este caso se aplica lleva ala función \"miseterio\"  x y x como 12 y 12.\n",
    "Al comparar x qque es 12 > 10, entonces aplica el \"y *2\" retornando el resultado de -}"
   ]
  }
 ],
 "metadata": {
  "kernelspec": {
   "display_name": "Haskell",
   "language": "haskell",
   "name": "haskell"
  },
  "language_info": {
   "codemirror_mode": "ihaskell",
   "file_extension": ".hs",
   "mimetype": "text/x-haskell",
   "name": "haskell",
   "pygments_lexer": "Haskell",
   "version": "9.6.4"
  }
 },
 "nbformat": 4,
 "nbformat_minor": 5
}
