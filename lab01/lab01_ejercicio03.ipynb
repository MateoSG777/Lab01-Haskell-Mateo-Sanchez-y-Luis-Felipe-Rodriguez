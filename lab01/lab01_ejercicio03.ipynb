{
 "cells": [
  {
   "cell_type": "code",
   "execution_count": 1,
   "id": "404bc7bc-a4dc-4718-b673-36917415b77c",
   "metadata": {
    "tags": []
   },
   "outputs": [],
   "source": [
    "--Ejercicio 3--"
   ]
  },
  {
   "cell_type": "code",
   "execution_count": 2,
   "id": "a9184667-f9fb-4438-a0e8-0c78b92cef7f",
   "metadata": {
    "tags": []
   },
   "outputs": [],
   "source": [
    "{-a.sumaCuadrados :: Int -> Int -> Int. Que calcule la suma de los cuadrados de dos número, define suma y cuadrado.\n",
    "\n",
    "b. dobleLista :: [Int] -> [Int]. Multiplica por 2 cada elemento de una lista usando map y una funcion \"duplicar\".-}"
   ]
  },
  {
   "cell_type": "code",
   "execution_count": 3,
   "id": "23974426-d292-4afa-87f6-c44d3f463514",
   "metadata": {
    "tags": []
   },
   "outputs": [],
   "source": [
    "suma :: Int -> Int -> Int\n",
    "suma x y = x + y\n",
    "\n",
    "cuadrado :: Int -> Int \n",
    "cuadrado x = x * x \n",
    "\n",
    "sumaCuadrados :: Int -> Int -> Int\n",
    "sumaCuadrados x y = suma(cuadrado x)(cuadrado y)"
   ]
  },
  {
   "cell_type": "code",
   "execution_count": 4,
   "id": "6a5d9731-4368-46e5-8749-c4bc819a5556",
   "metadata": {
    "tags": []
   },
   "outputs": [
    {
     "data": {
      "text/plain": [
       "20"
      ]
     },
     "metadata": {},
     "output_type": "display_data"
    }
   ],
   "source": [
    "sumaCuadrados 4 2"
   ]
  },
  {
   "cell_type": "code",
   "execution_count": 5,
   "id": "bd6d6fef-2324-45e9-9b6d-69aefc9adfbd",
   "metadata": {
    "tags": []
   },
   "outputs": [
    {
     "data": {
      "text/html": [
       "<style>/* Styles used for the Hoogle display in the pager */\n",
       ".hoogle-doc {\n",
       "display: block;\n",
       "padding-bottom: 1.3em;\n",
       "padding-left: 0.4em;\n",
       "}\n",
       ".hoogle-code {\n",
       "display: block;\n",
       "font-family: monospace;\n",
       "white-space: pre;\n",
       "}\n",
       ".hoogle-text {\n",
       "display: block;\n",
       "}\n",
       ".hoogle-name {\n",
       "color: green;\n",
       "font-weight: bold;\n",
       "}\n",
       ".hoogle-head {\n",
       "font-weight: bold;\n",
       "}\n",
       ".hoogle-sub {\n",
       "display: block;\n",
       "margin-left: 0.4em;\n",
       "}\n",
       ".hoogle-package {\n",
       "font-weight: bold;\n",
       "font-style: italic;\n",
       "}\n",
       ".hoogle-module {\n",
       "font-weight: bold;\n",
       "}\n",
       ".hoogle-class {\n",
       "font-weight: bold;\n",
       "}\n",
       "\n",
       ".get-type {\n",
       "color: green;\n",
       "font-weight: bold;\n",
       "font-family: monospace;\n",
       "display: block;\n",
       "white-space: pre-wrap;\n",
       "}\n",
       ".show-type {\n",
       "color: green;\n",
       "font-weight: bold;\n",
       "font-family: monospace;\n",
       "margin-left: 1em;\n",
       "}\n",
       ".mono {\n",
       "font-family: monospace;\n",
       "display: block;\n",
       "}\n",
       ".err-msg {\n",
       "color: red;\n",
       "font-style: italic;\n",
       "font-family: monospace;\n",
       "white-space: pre;\n",
       "display: block;\n",
       "}\n",
       "#unshowable {\n",
       "color: red;\n",
       "font-weight: bold;\n",
       "}\n",
       ".err-msg.in.collapse {\n",
       "padding-top: 0.7em;\n",
       "}\n",
       "\n",
       ".highlight-code {\n",
       "white-space: pre;\n",
       "font-family: monospace;\n",
       "}\n",
       "\n",
       ".suggestion-warning { \n",
       "font-weight: bold;\n",
       "color: rgb(200, 130, 0);\n",
       "}\n",
       ".suggestion-error { \n",
       "font-weight: bold;\n",
       "color: red;\n",
       "}\n",
       ".suggestion-name {\n",
       "font-weight: bold;\n",
       "}\n",
       "\n",
       "</style><div class=\"suggestion-name\" style=\"clear:both;\">Eta reduce</div><div class=\"suggestion-row\" style=\"float: left;\"><div class=\"suggestion-warning\">Found:</div><div class=\"highlight-code\" id=\"haskell\">dobleLista x = map duplicar x</div></div><div class=\"suggestion-row\" style=\"float: left;\"><div class=\"suggestion-warning\">Why Not:</div><div class=\"highlight-code\" id=\"haskell\">dobleLista = map duplicar</div></div>"
      ],
      "text/plain": [
       "Line 5: Eta reduce\n",
       "Found:\n",
       "dobleLista x = map duplicar x\n",
       "Why not:\n",
       "dobleLista = map duplicar"
      ]
     },
     "metadata": {},
     "output_type": "display_data"
    }
   ],
   "source": [
    "duplicar :: Int -> Int\n",
    "duplicar x = x * 2\n",
    "\n",
    "dobleLista :: [Int] -> [Int]\n",
    "dobleLista x = map duplicar x"
   ]
  },
  {
   "cell_type": "code",
   "execution_count": 6,
   "id": "feb30106-9bd4-483c-8634-7a131b9455ff",
   "metadata": {
    "tags": []
   },
   "outputs": [
    {
     "data": {
      "text/plain": [
       "[2,4,6,8,10]"
      ]
     },
     "metadata": {},
     "output_type": "display_data"
    }
   ],
   "source": [
    "dobleLista [1,2,3,4,5]"
   ]
  },
  {
   "cell_type": "code",
   "execution_count": null,
   "id": "278fbd5d-5ce8-4a36-b054-ae0e6b6fafe9",
   "metadata": {},
   "outputs": [],
   "source": [
    "{-La manera más sencilla de aplicar la funcion \"dobleLista\" es utilizando map y la expresión que quere-}"
   ]
  },
  {
   "cell_type": "code",
   "execution_count": 7,
   "id": "076c5768-d69a-47b5-b686-523f2be750b2",
   "metadata": {
    "tags": []
   },
   "outputs": [],
   "source": [
    "{- a.clasificarNota :: Int -> String. Que retorne \"  Menor a 3 → \"Reprobado\"\n",
    "  \n",
    "  Entre 3 y 4 → \"En recuperación\"\n",
    "  \n",
    "  Mayor o igual a 4 → \"Aprobado\"\"-}"
   ]
  },
  {
   "cell_type": "code",
   "execution_count": 8,
   "id": "bb3c12be-709e-4a7c-8622-13ac8a19396b",
   "metadata": {
    "tags": []
   },
   "outputs": [],
   "source": [
    "clasficarNota :: Int -> String\n",
    "clasficarNota x \n",
    "  | x < 3 = \"Reprobado\" \n",
    "  | 3 >= x && x < 4 = \"En recuperación\" \n",
    "  | otherwise = \"Aprobado\""
   ]
  },
  {
   "cell_type": "code",
   "execution_count": 10,
   "id": "89f10d02-1e68-457c-b453-7bc4a4461d85",
   "metadata": {
    "tags": []
   },
   "outputs": [
    {
     "data": {
      "text/plain": [
       "\"Reprobado\""
      ]
     },
     "metadata": {},
     "output_type": "display_data"
    },
    {
     "data": {
      "text/plain": [
       "\"En recuperaci\\243n\""
      ]
     },
     "metadata": {},
     "output_type": "display_data"
    },
    {
     "data": {
      "text/plain": [
       "\"Aprobado\""
      ]
     },
     "metadata": {},
     "output_type": "display_data"
    }
   ],
   "source": [
    "clasficarNota 1\n",
    "clasficarNota 3\n",
    "clasficarNota 5"
   ]
  },
  {
   "cell_type": "code",
   "execution_count": 11,
   "id": "6d0da3e3-7f5c-43a8-8c91-a0230022ef19",
   "metadata": {
    "tags": []
   },
   "outputs": [],
   "source": [
    "--b.fibonacci :: Int -> Int--"
   ]
  },
  {
   "cell_type": "code",
   "execution_count": 12,
   "id": "bbdc43b6-e97b-400b-923c-1edf9c498f2e",
   "metadata": {
    "tags": []
   },
   "outputs": [],
   "source": [
    "fibonacci :: Int -> Int\n",
    "fibonacci x\n",
    "  | x == 0 = 0\n",
    "  | x == 1 = 1\n",
    "  | otherwise = fibonacci(x - 1) + fibonacci(x - 2) "
   ]
  },
  {
   "cell_type": "code",
   "execution_count": 13,
   "id": "a00b7f50-5910-47d4-b8b6-9fa1d4e014e2",
   "metadata": {
    "tags": []
   },
   "outputs": [
    {
     "data": {
      "text/plain": [
       "55"
      ]
     },
     "metadata": {},
     "output_type": "display_data"
    }
   ],
   "source": [
    "fibonacci 10"
   ]
  },
  {
   "cell_type": "code",
   "execution_count": null,
   "id": "655558d8-501e-43b3-90fa-54fdaa1b0707",
   "metadata": {},
   "outputs": [],
   "source": []
  }
 ],
 "metadata": {
  "kernelspec": {
   "display_name": "Haskell",
   "language": "haskell",
   "name": "haskell"
  },
  "language_info": {
   "codemirror_mode": "ihaskell",
   "file_extension": ".hs",
   "mimetype": "text/x-haskell",
   "name": "haskell",
   "pygments_lexer": "Haskell",
   "version": "9.6.4"
  }
 },
 "nbformat": 4,
 "nbformat_minor": 5
}
