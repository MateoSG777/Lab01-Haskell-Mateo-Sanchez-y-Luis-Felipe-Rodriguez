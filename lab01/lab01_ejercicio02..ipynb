{
 "cells": [
  {
   "cell_type": "code",
   "execution_count": null,
   "id": "f51b3d09-be59-4b93-ae26-722ffa555e26",
   "metadata": {},
   "outputs": [],
   "source": [
    "--1. Ejecuta y analiza el resultado de las siguientes funciones sobre listas--\n",
    "\n"
   ]
  },
  {
   "cell_type": "code",
   "execution_count": 2,
   "id": "0c39cc2f-c60e-4a2e-9576-a8477aa30cfd",
   "metadata": {
    "tags": []
   },
   "outputs": [
    {
     "data": {
      "text/plain": [
       "10"
      ]
     },
     "metadata": {},
     "output_type": "display_data"
    },
    {
     "data": {
      "text/plain": [
       "[20,30,40]"
      ]
     },
     "metadata": {},
     "output_type": "display_data"
    },
    {
     "data": {
      "text/plain": [
       "[1,2,3]"
      ]
     },
     "metadata": {},
     "output_type": "display_data"
    },
    {
     "data": {
      "text/plain": [
       "[4,5,6,7,8,9,10]"
      ]
     },
     "metadata": {},
     "output_type": "display_data"
    },
    {
     "data": {
      "text/plain": [
       "5"
      ]
     },
     "metadata": {},
     "output_type": "display_data"
    }
   ],
   "source": [
    "head [10,20,30,40]\n",
    "tail [10,20,30,40]\n",
    "take 3 [1..10]\n",
    "drop 3 [1..10]\n",
    "length [1,2,3,4,5]"
   ]
  },
  {
   "cell_type": "code",
   "execution_count": 3,
   "id": "0ba89065-a64f-4045-b176-dc537a7bba15",
   "metadata": {
    "tags": []
   },
   "outputs": [],
   "source": [
    "{-  1. toma el primer valor de una lista considerado cabeza/Head.\n",
    "    2. Toma todos los valores posteriores a la cabeza considerado cola/tail.\n",
    "    3. Devuelve n valores de una secuencia determinada considerada como take n.\n",
    "    4. Elimina n valores de una lista y devuelve la nueva lista con los valores posteriores\n",
    "    5. Cuenta la longitud de una lista.\n",
    "-}"
   ]
  },
  {
   "cell_type": "code",
   "execution_count": 4,
   "id": "7bce0e9a-885f-4f4a-95e1-733e53543cbf",
   "metadata": {
    "tags": []
   },
   "outputs": [],
   "source": [
    "{- Pregunta: ¿Qué hace la expresión [1..10] y cómo se relaciona con la evaluación perezosa? \n",
    "[1..10] genera una lista de números en un rango determinado. En este caso desde 1 hasta 10 y utiliza la evaluación perezosa para trabajar con secuencias potencialmente infinitas sin que el programa se quede sin memoria o se bloquee al intentar generar la lista completa.\n",
    "por lo que solo utiliza los valores cuando son requeridos -}\n",
    "\n"
   ]
  },
  {
   "cell_type": "code",
   "execution_count": 5,
   "id": "74dbb650-253b-4f92-a854-7271aaa67670",
   "metadata": {
    "tags": []
   },
   "outputs": [],
   "source": [
    "{-2. Define las siguientes funciones\n",
    "a. primerElemento :: [a] -> a. Devuelve el primer elemento de la lista usando patrones.\n",
    "\n",
    "b. productoLista :: [Int] -> Int. Calcula el producto de todos los elementos de la lista de forma recursiva.\n",
    "\n",
    "c. eliminarNegativos :: [Int] -> [Int]. Devuelve una lista que contiene solo los números mayores o iguales a 0.\n",
    "\n",
    "d. Reto: Implementa invertir :: [a] -> [a]. Para invertir una lista sin usar la función reverse.\n",
    "-}"
   ]
  },
  {
   "cell_type": "code",
   "execution_count": 13,
   "id": "d6baf549-7f62-4a62-ad8d-5e8f98d6e495",
   "metadata": {
    "tags": []
   },
   "outputs": [
    {
     "data": {
      "text/plain": [
       "1"
      ]
     },
     "metadata": {},
     "output_type": "display_data"
    }
   ],
   "source": [
    "primerElemento :: [a] -> a\n",
    "primerElemento (a:_) = a \n",
    "primerElemento [1,2,3,4,5]\n"
   ]
  },
  {
   "cell_type": "code",
   "execution_count": 20,
   "id": "bc4d1abb-56ed-48f7-a781-7868a02127d7",
   "metadata": {
    "tags": []
   },
   "outputs": [
    {
     "data": {
      "text/html": [
       "<style>/* Styles used for the Hoogle display in the pager */\n",
       ".hoogle-doc {\n",
       "display: block;\n",
       "padding-bottom: 1.3em;\n",
       "padding-left: 0.4em;\n",
       "}\n",
       ".hoogle-code {\n",
       "display: block;\n",
       "font-family: monospace;\n",
       "white-space: pre;\n",
       "}\n",
       ".hoogle-text {\n",
       "display: block;\n",
       "}\n",
       ".hoogle-name {\n",
       "color: green;\n",
       "font-weight: bold;\n",
       "}\n",
       ".hoogle-head {\n",
       "font-weight: bold;\n",
       "}\n",
       ".hoogle-sub {\n",
       "display: block;\n",
       "margin-left: 0.4em;\n",
       "}\n",
       ".hoogle-package {\n",
       "font-weight: bold;\n",
       "font-style: italic;\n",
       "}\n",
       ".hoogle-module {\n",
       "font-weight: bold;\n",
       "}\n",
       ".hoogle-class {\n",
       "font-weight: bold;\n",
       "}\n",
       "\n",
       ".get-type {\n",
       "color: green;\n",
       "font-weight: bold;\n",
       "font-family: monospace;\n",
       "display: block;\n",
       "white-space: pre-wrap;\n",
       "}\n",
       ".show-type {\n",
       "color: green;\n",
       "font-weight: bold;\n",
       "font-family: monospace;\n",
       "margin-left: 1em;\n",
       "}\n",
       ".mono {\n",
       "font-family: monospace;\n",
       "display: block;\n",
       "}\n",
       ".err-msg {\n",
       "color: red;\n",
       "font-style: italic;\n",
       "font-family: monospace;\n",
       "white-space: pre;\n",
       "display: block;\n",
       "}\n",
       "#unshowable {\n",
       "color: red;\n",
       "font-weight: bold;\n",
       "}\n",
       ".err-msg.in.collapse {\n",
       "padding-top: 0.7em;\n",
       "}\n",
       "\n",
       ".highlight-code {\n",
       "white-space: pre;\n",
       "font-family: monospace;\n",
       "}\n",
       "\n",
       ".suggestion-warning { \n",
       "font-weight: bold;\n",
       "color: rgb(200, 130, 0);\n",
       "}\n",
       ".suggestion-error { \n",
       "font-weight: bold;\n",
       "color: red;\n",
       "}\n",
       ".suggestion-name {\n",
       "font-weight: bold;\n",
       "}\n",
       "\n",
       "</style><div class=\"suggestion-name\" style=\"clear:both;\">Use foldr</div><div class=\"suggestion-row\" style=\"float: left;\"><div class=\"suggestion-warning\">Found:</div><div class=\"highlight-code\" id=\"haskell\">productoLista [] = 1\n",
       "productoLista (x : xs) = x * productoLista xs</div></div><div class=\"suggestion-row\" style=\"float: left;\"><div class=\"suggestion-warning\">Why Not:</div><div class=\"highlight-code\" id=\"haskell\">productoLista xs = foldr (*) 1 xs</div></div>"
      ],
      "text/plain": [
       "Line 2: Use foldr\n",
       "Found:\n",
       "productoLista [] = 1\n",
       "productoLista (x : xs) = x * productoLista xs\n",
       "Why not:\n",
       "productoLista xs = foldr (*) 1 xs"
      ]
     },
     "metadata": {},
     "output_type": "display_data"
    },
    {
     "data": {
      "text/plain": [
       "120"
      ]
     },
     "metadata": {},
     "output_type": "display_data"
    }
   ],
   "source": [
    "productoLista :: [Int] -> Int\n",
    "productoLista [] = 1                   \n",
    "productoLista (x:xs) = x * productoLista xs \n",
    "productoLista [1,2,3,4,5]"
   ]
  },
  {
   "cell_type": "code",
   "execution_count": 24,
   "id": "d1792d06-3dab-48a3-a7a9-760e781629dc",
   "metadata": {
    "tags": []
   },
   "outputs": [
    {
     "data": {
      "text/plain": [
       "[0,1,2,0]"
      ]
     },
     "metadata": {},
     "output_type": "display_data"
    }
   ],
   "source": [
    "eliminarNegativos :: [Int] -> [Int]\n",
    "eliminarNegativos[] = []\n",
    "eliminarNegativos (x:xs) = if x >= 0 then x:eliminarNegativos xs else eliminarNegativos xs\n",
    "eliminarNegativos [0,-1,1,2,0]\n"
   ]
  },
  {
   "cell_type": "code",
   "execution_count": null,
   "id": "bd1bc0ed-ebee-4f1d-9cc3-3544c57873e3",
   "metadata": {},
   "outputs": [],
   "source": []
  }
 ],
 "metadata": {
  "kernelspec": {
   "display_name": "Haskell",
   "language": "haskell",
   "name": "haskell"
  },
  "language_info": {
   "codemirror_mode": "ihaskell",
   "file_extension": ".hs",
   "mimetype": "text/x-haskell",
   "name": "haskell",
   "pygments_lexer": "Haskell",
   "version": "9.6.4"
  }
 },
 "nbformat": 4,
 "nbformat_minor": 5
}
