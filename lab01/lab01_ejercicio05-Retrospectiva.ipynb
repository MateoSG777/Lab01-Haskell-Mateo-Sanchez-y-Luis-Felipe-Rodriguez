{
 "cells": [
  {
   "cell_type": "code",
   "execution_count": 1,
   "id": "99a1bb69-bd7c-470e-83ca-7bb6fe38a6de",
   "metadata": {
    "tags": []
   },
   "outputs": [],
   "source": [
    "--Ejercicio 5--"
   ]
  },
  {
   "cell_type": "code",
   "execution_count": 3,
   "id": "4afe522e-d881-4092-b2b2-0c8aa9705501",
   "metadata": {
    "tags": []
   },
   "outputs": [],
   "source": [
    "{-Reescribe estas funciones usando lambda:\n",
    "\n",
    "a. incrementarLista xs = map suma xs\n",
    "\n",
    "b. filtrarPares xs = filter even xs\n",
    "\n",
    "c. sumarTuplas xs = ...-}"
   ]
  },
  {
   "cell_type": "code",
   "execution_count": 28,
   "id": "93e912fa-79b9-497f-9ab9-11fcd1dc9136",
   "metadata": {
    "tags": []
   },
   "outputs": [
    {
     "data": {
      "text/html": [
       "<style>/* Styles used for the Hoogle display in the pager */\n",
       ".hoogle-doc {\n",
       "display: block;\n",
       "padding-bottom: 1.3em;\n",
       "padding-left: 0.4em;\n",
       "}\n",
       ".hoogle-code {\n",
       "display: block;\n",
       "font-family: monospace;\n",
       "white-space: pre;\n",
       "}\n",
       ".hoogle-text {\n",
       "display: block;\n",
       "}\n",
       ".hoogle-name {\n",
       "color: green;\n",
       "font-weight: bold;\n",
       "}\n",
       ".hoogle-head {\n",
       "font-weight: bold;\n",
       "}\n",
       ".hoogle-sub {\n",
       "display: block;\n",
       "margin-left: 0.4em;\n",
       "}\n",
       ".hoogle-package {\n",
       "font-weight: bold;\n",
       "font-style: italic;\n",
       "}\n",
       ".hoogle-module {\n",
       "font-weight: bold;\n",
       "}\n",
       ".hoogle-class {\n",
       "font-weight: bold;\n",
       "}\n",
       "\n",
       ".get-type {\n",
       "color: green;\n",
       "font-weight: bold;\n",
       "font-family: monospace;\n",
       "display: block;\n",
       "white-space: pre-wrap;\n",
       "}\n",
       ".show-type {\n",
       "color: green;\n",
       "font-weight: bold;\n",
       "font-family: monospace;\n",
       "margin-left: 1em;\n",
       "}\n",
       ".mono {\n",
       "font-family: monospace;\n",
       "display: block;\n",
       "}\n",
       ".err-msg {\n",
       "color: red;\n",
       "font-style: italic;\n",
       "font-family: monospace;\n",
       "white-space: pre;\n",
       "display: block;\n",
       "}\n",
       "#unshowable {\n",
       "color: red;\n",
       "font-weight: bold;\n",
       "}\n",
       ".err-msg.in.collapse {\n",
       "padding-top: 0.7em;\n",
       "}\n",
       "\n",
       ".highlight-code {\n",
       "white-space: pre;\n",
       "font-family: monospace;\n",
       "}\n",
       "\n",
       ".suggestion-warning { \n",
       "font-weight: bold;\n",
       "color: rgb(200, 130, 0);\n",
       "}\n",
       ".suggestion-error { \n",
       "font-weight: bold;\n",
       "color: red;\n",
       "}\n",
       ".suggestion-name {\n",
       "font-weight: bold;\n",
       "}\n",
       "\n",
       "</style><div class=\"suggestion-name\" style=\"clear:both;\">Eta reduce</div><div class=\"suggestion-row\" style=\"float: left;\"><div class=\"suggestion-warning\">Found:</div><div class=\"highlight-code\" id=\"haskell\">incrementarLista xs = map (\\ x -> x + 1) xs</div></div><div class=\"suggestion-row\" style=\"float: left;\"><div class=\"suggestion-warning\">Why Not:</div><div class=\"highlight-code\" id=\"haskell\">incrementarLista = map (\\ x -> x + 1)</div></div><div class=\"suggestion-name\" style=\"clear:both;\">Avoid lambda using `infix`</div><div class=\"suggestion-row\" style=\"float: left;\"><div class=\"suggestion-warning\">Found:</div><div class=\"highlight-code\" id=\"haskell\">(\\ x -> x + 1)</div></div><div class=\"suggestion-row\" style=\"float: left;\"><div class=\"suggestion-warning\">Why Not:</div><div class=\"highlight-code\" id=\"haskell\">(+ 1)</div></div><div class=\"suggestion-name\" style=\"clear:both;\">Eta reduce</div><div class=\"suggestion-row\" style=\"float: left;\"><div class=\"suggestion-warning\">Found:</div><div class=\"highlight-code\" id=\"haskell\">filtrarPares xs = filter (\\ x -> x `mod` 2 == 0) xs</div></div><div class=\"suggestion-row\" style=\"float: left;\"><div class=\"suggestion-warning\">Why Not:</div><div class=\"highlight-code\" id=\"haskell\">filtrarPares = filter (\\ x -> x `mod` 2 == 0)</div></div><div class=\"suggestion-name\" style=\"clear:both;\">Use even</div><div class=\"suggestion-row\" style=\"float: left;\"><div class=\"suggestion-warning\">Found:</div><div class=\"highlight-code\" id=\"haskell\">x `mod` 2 == 0</div></div><div class=\"suggestion-row\" style=\"float: left;\"><div class=\"suggestion-warning\">Why Not:</div><div class=\"highlight-code\" id=\"haskell\">even x</div></div><div class=\"suggestion-name\" style=\"clear:both;\">Eta reduce</div><div class=\"suggestion-row\" style=\"float: left;\"><div class=\"suggestion-warning\">Found:</div><div class=\"highlight-code\" id=\"haskell\">sumarTuplas xs = map (\\ (a, b) -> a + b) xs</div></div><div class=\"suggestion-row\" style=\"float: left;\"><div class=\"suggestion-warning\">Why Not:</div><div class=\"highlight-code\" id=\"haskell\">sumarTuplas = map (\\ (a, b) -> a + b)</div></div><div class=\"suggestion-name\" style=\"clear:both;\">Use uncurry</div><div class=\"suggestion-row\" style=\"float: left;\"><div class=\"suggestion-warning\">Found:</div><div class=\"highlight-code\" id=\"haskell\">\\ (a, b) -> a + b</div></div><div class=\"suggestion-row\" style=\"float: left;\"><div class=\"suggestion-warning\">Why Not:</div><div class=\"highlight-code\" id=\"haskell\">uncurry (+)</div></div>"
      ],
      "text/plain": [
       "Line 1: Eta reduce\n",
       "Found:\n",
       "incrementarLista xs = map (\\ x -> x + 1) xs\n",
       "Why not:\n",
       "incrementarLista = map (\\ x -> x + 1)Line 1: Avoid lambda using `infix`\n",
       "Found:\n",
       "(\\ x -> x + 1)\n",
       "Why not:\n",
       "(+ 1)Line 3: Eta reduce\n",
       "Found:\n",
       "filtrarPares xs = filter (\\ x -> x `mod` 2 == 0) xs\n",
       "Why not:\n",
       "filtrarPares = filter (\\ x -> x `mod` 2 == 0)Line 3: Use even\n",
       "Found:\n",
       "x `mod` 2 == 0\n",
       "Why not:\n",
       "even xLine 5: Eta reduce\n",
       "Found:\n",
       "sumarTuplas xs = map (\\ (a, b) -> a + b) xs\n",
       "Why not:\n",
       "sumarTuplas = map (\\ (a, b) -> a + b)Line 5: Use uncurry\n",
       "Found:\n",
       "\\ (a, b) -> a + b\n",
       "Why not:\n",
       "uncurry (+)"
      ]
     },
     "metadata": {},
     "output_type": "display_data"
    }
   ],
   "source": [
    "incrementarLista xs = map (\\x -> x + 1) xs\n",
    "\n",
    "filtrarPares xs = filter (\\x -> x `mod` 2 == 0) xs\n",
    "\n",
    "sumarTuplas xs = map (\\(a, b) -> a + b) xs"
   ]
  },
  {
   "cell_type": "code",
   "execution_count": 13,
   "id": "689a38a5-9a65-49c7-af01-a74c32ea94f6",
   "metadata": {
    "tags": []
   },
   "outputs": [
    {
     "data": {
      "text/plain": [
       "[2,3,4,5,6,7,8,9,10,11]"
      ]
     },
     "metadata": {},
     "output_type": "display_data"
    }
   ],
   "source": [
    "incrementarLista [1..10]\n"
   ]
  },
  {
   "cell_type": "code",
   "execution_count": 29,
   "id": "65ef432e-14de-4304-86b5-59e7e8ae18eb",
   "metadata": {
    "tags": []
   },
   "outputs": [
    {
     "data": {
      "text/plain": [
       "[2,4,6,8,10,12,14,16,18,20,22,24,26,28,30,32,34,36,38,40,42,44,46,48,50,52,54,56,58,60,62,64,66,68,70,72,74,76,78,80,82,84,86,88,90,92,94,96,98,100]"
      ]
     },
     "metadata": {},
     "output_type": "display_data"
    }
   ],
   "source": [
    "filtrarPares [1..100]"
   ]
  },
  {
   "cell_type": "code",
   "execution_count": 34,
   "id": "7c46de48-153e-411b-af8b-c089cb3c431d",
   "metadata": {
    "tags": []
   },
   "outputs": [
    {
     "data": {
      "text/plain": [
       "[3,7,10]"
      ]
     },
     "metadata": {},
     "output_type": "display_data"
    }
   ],
   "source": [
    "sumarTuplas [(1,2), (3,4), (5,5)]"
   ]
  },
  {
   "cell_type": "code",
   "execution_count": 35,
   "id": "d6c30ea3-f22d-46df-8be2-83dd72b27a84",
   "metadata": {
    "tags": []
   },
   "outputs": [],
   "source": [
    "--Retrospectiva--"
   ]
  },
  {
   "cell_type": "code",
   "execution_count": 36,
   "id": "3a514344-ed3e-44c5-9d75-2ca08e3fbbc4",
   "metadata": {
    "tags": []
   },
   "outputs": [],
   "source": [
    "{-\n",
    "1.¿Cuál fue el tiempo total invertido en el laboratorio por cada uno de ustedes? (Horas/Hombre)\n",
    "R/ El tiempo usado se divide en dos partes, la clase del lunes y el trabajo individual, en clase ambos (Luis y Mateo) usamos las 3 horas establecidas\n",
    ", en trabajo individual cada uno empleamos aproximadamente 1 hora, todo esto para un total de 4 horas de trabajo por persona.\n",
    "2.¿Cuál es el estado actual del laboratorio? ¿Por qué?\n",
    "R/ El estado actual es un laboratorio terminado en su totalidad, esto debido a la buena distribución y trabajo autónomo realizado por la pareja \n",
    "de laboratorio.\n",
    "3.¿Cuál consideran fue el mayor logro? ¿Por qué?\n",
    "R/ El mayor logro fue sin duda el de afianzar los conocimientos con estos ejercicios prácticos, pues al evaluar nuestros conocimientos teóricos\n",
    "nos dimos cuenta que no eran suficientes o no estaban del todo consolidados.\n",
    "4.¿Cuál consideran que fue el mayor problema técnico? ¿Qué hicieron para resolverlo?\n",
    "R/ No experimentamos ningún problema de orden técnico.\n",
    "5.¿Qué hicieron bien como equipo? ¿Qué se comprometen a hacer para mejorar los resultados?\n",
    "R/ Lo mejor que hicimos como equipo fue la comunicación que tuvimos durante el laboratorio, particularmente en la clase del lunes donde fue más sencillo hablar\n",
    ", discutir y enseñarnos mutuamente, al hacer esto nos llevamos unas bases de entendimiento bastante solidas para terminar el resto con el trabajo autónomo.\n",
    "Nos comprometemos a realizar el trabajo en un menor tiempo, pues consideramos que se dieron muchas largas a la elaboración de las últimas partes.\n",
    "6.¿Qué referencias usaron? ¿Cuál fue la más útil? Incluyan citas con estándares adecuados.\n",
    "R/ Nuestras ayudas más grandes fueron herramientas de inteligencia artificial como Chat gpt y Deepseek, pues fueron capaces de resolver dudas concretas \n",
    "que tuvimos en la elaboración de algunos puntos, además del material dado por el profesor.-}"
   ]
  },
  {
   "cell_type": "code",
   "execution_count": null,
   "id": "ca454111-6564-4b1f-9c9b-4ab4cb34e7d8",
   "metadata": {},
   "outputs": [],
   "source": [
    "{--}"
   ]
  }
 ],
 "metadata": {
  "kernelspec": {
   "display_name": "Haskell",
   "language": "haskell",
   "name": "haskell"
  },
  "language_info": {
   "codemirror_mode": "ihaskell",
   "file_extension": ".hs",
   "mimetype": "text/x-haskell",
   "name": "haskell",
   "pygments_lexer": "Haskell",
   "version": "9.6.4"
  }
 },
 "nbformat": 4,
 "nbformat_minor": 5
}
